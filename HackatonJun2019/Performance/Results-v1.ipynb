{
 "cells": [
  {
   "cell_type": "code",
   "execution_count": 2,
   "metadata": {},
   "outputs": [
    {
     "name": "stdout",
     "output_type": "stream",
     "text": [
      "Welcome to JupyROOT 6.16/00\n"
     ]
    }
   ],
   "source": [
    "import ROOT"
   ]
  },
  {
   "cell_type": "code",
   "execution_count": 3,
   "metadata": {},
   "outputs": [],
   "source": [
    "gr_gpu = ROOT.TGraphErrors ()\n",
    "gr_gpu_hlt = ROOT.TGraphErrors ()\n",
    "gr_cpu = ROOT.TGraphErrors ()"
   ]
  },
  {
   "cell_type": "code",
   "execution_count": 4,
   "metadata": {},
   "outputs": [],
   "source": [
    "#\n",
    "# V1 version of the code\n",
    "#\n",
    "\n",
    "#\n",
    "# The actual data: gpu\n",
    "#\n",
    "# Tesla V100-SXM2-32GB\n",
    "#     salloc -p gpu --nodes=1 --gres=gpu:1 -c 16 --constraint=v100\n",
    "#\n",
    "\n",
    "data = {}\n",
    "data[1]  = (210.4, 1.0)\n",
    "data[2]  = (395.5, 1.7)\n",
    "data[3]  = (554.5, 0.6)\n",
    "data[4]  = (697.5, 0.7)\n",
    "data[5]  = (817.4, 0.8)\n",
    "data[6]  = (873.6, 3.1)\n",
    "# data[7]  = (721.6, 247.6)\n",
    "data[8]  = (554.9, 0.6)\n",
    "data[9]  = (880.0, 5.4)\n",
    "data[10] = (922.6, 3.5)\n",
    "data[11] = (939.5, 4.2)\n",
    "data[12] = (943.9, 3.1)\n",
    "\n",
    "\n",
    "\n",
    "\n"
   ]
  },
  {
   "cell_type": "code",
   "execution_count": null,
   "metadata": {},
   "outputs": [],
   "source": []
  },
  {
   "cell_type": "code",
   "execution_count": 5,
   "metadata": {},
   "outputs": [],
   "source": [
    "iterator = 0\n",
    "for point in data.iteritems():\n",
    "    # print i[1][1]\n",
    "    gr_gpu.SetPoint      (iterator, point[0], point[1][0]) \n",
    "    gr_gpu.SetPointError (iterator, 0,        point[1][1]) \n",
    "    iterator+=1"
   ]
  },
  {
   "cell_type": "code",
   "execution_count": 6,
   "metadata": {
    "scrolled": false
   },
   "outputs": [],
   "source": [
    "cc = ROOT.TCanvas (\"cc\",\"\",800,600)\n",
    "gr_gpu.SetMarkerSize(2)\n",
    "gr_gpu.SetMarkerStyle(20)\n",
    "gr_gpu.SetMarkerColor(ROOT.kRed)\n",
    "gr_gpu.SetLineColor(ROOT.kRed)\n",
    "\n",
    "\n",
    "mgr = ROOT.TMultiGraph()\n",
    "\n",
    "mgr.Add(gr_gpu)\n"
   ]
  },
  {
   "cell_type": "code",
   "execution_count": null,
   "metadata": {},
   "outputs": [],
   "source": [
    "    "
   ]
  },
  {
   "cell_type": "code",
   "execution_count": 9,
   "metadata": {},
   "outputs": [],
   "source": [
    "\n",
    "leg = ROOT.TLegend(0.6, 0.3, 0.9, 0.5)\n",
    "leg.AddEntry(gr_gpu, \"gpu V100\")\n",
    "\n",
    "mgr.Draw(\"APL\")\n",
    "mgr.GetXaxis().SetTitle(\"#threads / streams\")\n",
    "mgr.GetYaxis().SetTitle(\"events/sec\")\n",
    "\n",
    "leg.Draw(\"same\")\n"
   ]
  },
  {
   "cell_type": "code",
   "execution_count": 10,
   "metadata": {},
   "outputs": [
    {
     "data": {
      "image/png": "[encoded data removed]",
      "text/plain": [
       "<IPython.core.display.Image object>"
      ]
     },
     "metadata": {},
     "output_type": "display_data"
    }
   ],
   "source": [
    "cc.Draw()"
   ]
  },
  {
   "cell_type": "code",
   "execution_count": null,
   "metadata": {},
   "outputs": [],
   "source": []
  },
  {
   "cell_type": "code",
   "execution_count": null,
   "metadata": {},
   "outputs": [],
   "source": []
  }
 ],
 "metadata": {
  "kernelspec": {
   "display_name": "Python 2",
   "language": "python",
   "name": "python2"
  },
  "language_info": {
   "codemirror_mode": {
    "name": "ipython",
    "version": 2
   },
   "file_extension": ".py",
   "mimetype": "text/x-python",
   "name": "python",
   "nbconvert_exporter": "python",
   "pygments_lexer": "ipython2",
   "version": "2.7.15"
  }
 },
 "nbformat": 4,
 "nbformat_minor": 2
}

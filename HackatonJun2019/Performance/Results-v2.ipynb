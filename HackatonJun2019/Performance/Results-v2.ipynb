{
 "cells": [
  {
   "cell_type": "code",
   "execution_count": 1,
   "metadata": {},
   "outputs": [
    {
     "name": "stdout",
     "output_type": "stream",
     "text": [
      "Welcome to JupyROOT 6.16/00\n"
     ]
    }
   ],
   "source": [
    "import ROOT"
   ]
  },
  {
   "cell_type": "code",
   "execution_count": null,
   "metadata": {},
   "outputs": [],
   "source": []
  },
  {
   "cell_type": "code",
   "execution_count": 2,
   "metadata": {},
   "outputs": [],
   "source": [
    "gr_gpu_k0 = ROOT.TGraphErrors ()\n",
    "gr_gpu_k1 = ROOT.TGraphErrors ()\n",
    "gr_gpu_k2 = ROOT.TGraphErrors ()\n",
    "gr_gpu_k3 = ROOT.TGraphErrors ()\n"
   ]
  },
  {
   "cell_type": "code",
   "execution_count": 3,
   "metadata": {},
   "outputs": [],
   "source": [
    "#\n",
    "# V2 version of the code\n",
    "#\n",
    "\n",
    "#\n",
    "# The actual data: gpu\n",
    "#\n",
    "# Tesla V100-SXM2-32GB\n",
    "#     salloc -p gpu --nodes=1 --gres=gpu:1 -c 16 --constraint=v100\n",
    "#\n",
    "#  kernelsVersion = 0\n",
    "#\n",
    "\n",
    "data_k0 = {}\n",
    "data_k0[1]  = (238.0, 1.7)\n",
    "data_k0[2]  = (438.7, 1.5)\n",
    "data_k0[3]  = (574.9, 2.1)\n",
    "data_k0[4]  = (658.8, 2.2)\n",
    "data_k0[5]  = (635.2, 148)\n",
    "data_k0[6]  = (743.0, 2.4)\n",
    "data_k0[7]  = (761.8, 6.3)\n",
    "data_k0[8]  = (783.1, 1.9)\n",
    "data_k0[9]  = (796.1, 3.5)\n",
    "data_k0[10] = (809.7, 2.8)\n",
    "data_k0[11] = (815.7, 1.0)\n",
    "data_k0[12] = (821.5, 7.3)\n",
    "\n",
    "\n",
    "\n",
    "data_k1 = {}\n",
    "data_k1[1]  = (218.7, 0.3)\n",
    "data_k1[2]  = (409.2, 1.5)\n",
    "data_k1[3]  = (569.7, 1.6)\n",
    "data_k1[4]  = (715.3, 1.9)\n",
    "data_k1[5]  = (835.7, 1.4)\n",
    "data_k1[6]  = (899.2, 2.0)\n",
    "data_k1[7]  = (892.7, 2.7)\n",
    "data_k1[8]  = (616.6, 1.2)\n",
    "data_k1[9]  = (922.0, 5.5)\n",
    "data_k1[10] = (941.6, 3.5)\n",
    "data_k1[11] = (954.0, 3.2)\n",
    "data_k1[12] = (950.9, 4.6)\n",
    "\n",
    "\n",
    "\n",
    "\n",
    "data_k2 = {}\n",
    "data_k2[1]  = (257.2, 2.2)\n",
    "data_k2[2]  = (508.6, 2.5)\n",
    "data_k2[3]  = (697.1, 1.5)\n",
    "data_k2[4]  = (848.7, 1.5)\n",
    "data_k2[5]  = (959.1, 1.0)\n",
    "data_k2[6]  = (986.5, 4.0)\n",
    "data_k2[7]  = (812.8, 343)\n",
    "data_k2[8]  = (984.6, 8.7)\n",
    "data_k2[9]  = (976.4, 7.2)\n",
    "data_k2[10] = (985.0, 2.1)\n",
    "data_k2[11] = (978.3, 7.8)\n",
    "data_k2[12] = (982.4, 5.2)\n",
    "\n",
    "\n",
    "\n",
    "\n",
    "data_k3 = {}\n",
    "data_k3[1]  = (263.6, 2.3)\n",
    "data_k3[2]  = (515.1, 4.4)\n",
    "data_k3[3]  = (694.3, 2.8)\n",
    "data_k3[4]  = (826.0, 2.9)\n",
    "data_k3[5]  = (918.5, 1.4)\n",
    "data_k3[6]  = (963.5, 4.0)\n",
    "data_k3[7]  = (973.2, 4.0)\n",
    "data_k3[8]  = (969.2, 12.6)\n",
    "data_k3[9]  = (971.6, 9.1)\n",
    "data_k3[10] = (969.0, 9.9)\n",
    "data_k3[11] = (963.0, 6.1)\n",
    "data_k3[12] = (966.3, 6.1)\n",
    "\n",
    "\n",
    "\n"
   ]
  },
  {
   "cell_type": "code",
   "execution_count": null,
   "metadata": {},
   "outputs": [],
   "source": []
  },
  {
   "cell_type": "code",
   "execution_count": 4,
   "metadata": {},
   "outputs": [],
   "source": [
    "iterator = 0\n",
    "for point in data_k0.iteritems():\n",
    "    # print i[1][1]\n",
    "    gr_gpu_k0.SetPoint      (iterator, point[0], point[1][0]) \n",
    "    gr_gpu_k0.SetPointError (iterator, 0,        point[1][1]) \n",
    "    iterator+=1\n",
    "    \n",
    "    \n",
    "iterator = 0\n",
    "for point in data_k1.iteritems():\n",
    "    # print i[1][1]\n",
    "    gr_gpu_k1.SetPoint      (iterator, point[0], point[1][0]) \n",
    "    gr_gpu_k1.SetPointError (iterator, 0,        point[1][1]) \n",
    "    iterator+=1\n",
    "    \n",
    "    \n",
    "     \n",
    "iterator = 0\n",
    "for point in data_k2.iteritems():\n",
    "    # print i[1][1]\n",
    "    gr_gpu_k2.SetPoint      (iterator, point[0], point[1][0]) \n",
    "    gr_gpu_k2.SetPointError (iterator, 0,        point[1][1]) \n",
    "    iterator+=1\n",
    "    \n",
    "    \n",
    "          \n",
    "iterator = 0\n",
    "for point in data_k3.iteritems():\n",
    "    # print i[1][1]\n",
    "    gr_gpu_k3.SetPoint      (iterator, point[0], point[1][0]) \n",
    "    gr_gpu_k3.SetPointError (iterator, 0,        point[1][1]) \n",
    "    iterator+=1\n",
    "    \n",
    "    \n",
    "     "
   ]
  },
  {
   "cell_type": "code",
   "execution_count": 5,
   "metadata": {
    "scrolled": false
   },
   "outputs": [],
   "source": [
    "cc = ROOT.TCanvas (\"cc\",\"\",800,600)\n",
    "gr_gpu_k0.SetMarkerSize(2)\n",
    "gr_gpu_k0.SetMarkerStyle(20)\n",
    "gr_gpu_k0.SetMarkerColor(ROOT.kRed)\n",
    "gr_gpu_k0.SetLineColor(ROOT.kRed)\n",
    "\n",
    "gr_gpu_k1.SetMarkerSize(2)\n",
    "gr_gpu_k1.SetMarkerStyle(21)\n",
    "gr_gpu_k1.SetMarkerColor(ROOT.kBlue)\n",
    "gr_gpu_k1.SetLineColor(ROOT.kBlue)\n",
    "\n",
    "gr_gpu_k2.SetMarkerSize(2)\n",
    "gr_gpu_k2.SetMarkerStyle(22)\n",
    "gr_gpu_k2.SetMarkerColor(ROOT.kOrange)\n",
    "gr_gpu_k2.SetLineColor(ROOT.kOrange)\n",
    "\n",
    "\n",
    "gr_gpu_k3.SetMarkerSize(2)\n",
    "gr_gpu_k3.SetMarkerStyle(23)\n",
    "gr_gpu_k3.SetMarkerColor(ROOT.kOrange+4)\n",
    "gr_gpu_k3.SetLineColor(ROOT.kOrange+4)\n",
    "\n",
    "\n",
    "mgr = ROOT.TMultiGraph()\n",
    "\n",
    "mgr.Add(gr_gpu_k0)\n",
    "mgr.Add(gr_gpu_k1)\n",
    "mgr.Add(gr_gpu_k2)\n",
    "mgr.Add(gr_gpu_k3)\n"
   ]
  },
  {
   "cell_type": "code",
   "execution_count": null,
   "metadata": {},
   "outputs": [],
   "source": [
    "    "
   ]
  },
  {
   "cell_type": "code",
   "execution_count": 6,
   "metadata": {},
   "outputs": [],
   "source": [
    "\n",
    "leg = ROOT.TLegend(0.6, 0.3, 0.9, 0.5)\n",
    "leg.AddEntry(gr_gpu_k0, \"gpu V100 v2 k=0\")\n",
    "leg.AddEntry(gr_gpu_k1, \"gpu V100 v2 k=1\")\n",
    "leg.AddEntry(gr_gpu_k2, \"gpu V100 v2 k=2\")\n",
    "leg.AddEntry(gr_gpu_k3, \"gpu V100 v2 k=3\")\n",
    "\n",
    "mgr.Draw(\"APL\")\n",
    "mgr.GetXaxis().SetTitle(\"#threads / streams\")\n",
    "mgr.GetYaxis().SetTitle(\"events/sec\")\n",
    "\n",
    "leg.Draw(\"same\")\n"
   ]
  },
  {
   "cell_type": "code",
   "execution_count": 7,
   "metadata": {},
   "outputs": [
    {
     "data": {
      "image/png": "[encoded data removed]",
      "text/plain": [
       "<IPython.core.display.Image object>"
      ]
     },
     "metadata": {},
     "output_type": "display_data"
    }
   ],
   "source": [
    "cc.Draw()"
   ]
  },
  {
   "cell_type": "code",
   "execution_count": null,
   "metadata": {},
   "outputs": [],
   "source": []
  }
 ],
 "metadata": {
  "kernelspec": {
   "display_name": "Python 2",
   "language": "python",
   "name": "python2"
  },
  "language_info": {
   "codemirror_mode": {
    "name": "ipython",
    "version": 2
   },
   "file_extension": ".py",
   "mimetype": "text/x-python",
   "name": "python",
   "nbconvert_exporter": "python",
   "pygments_lexer": "ipython2",
   "version": "2.7.15"
  }
 },
 "nbformat": 4,
 "nbformat_minor": 2
}

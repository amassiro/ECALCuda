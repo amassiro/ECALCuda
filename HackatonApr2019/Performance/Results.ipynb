{
 "cells": [
  {
   "cell_type": "code",
   "execution_count": 1,
   "metadata": {},
   "outputs": [
    {
     "name": "stdout",
     "output_type": "stream",
     "text": [
      "Welcome to JupyROOT 6.16/00\n"
     ]
    }
   ],
   "source": [
    "import ROOT"
   ]
  },
  {
   "cell_type": "code",
   "execution_count": 2,
   "metadata": {},
   "outputs": [],
   "source": [
    "gr_gpu = ROOT.TGraphErrors ()\n",
    "gr_gpu_hlt = ROOT.TGraphErrors ()\n",
    "gr_cpu = ROOT.TGraphErrors ()\n",
    "\n",
    "gr_sec_per_event_gpu = ROOT.TGraphErrors ()\n",
    "gr_sec_per_event_gpu_hlt = ROOT.TGraphErrors ()\n",
    "gr_sec_per_event_cpu = ROOT.TGraphErrors ()"
   ]
  },
  {
   "cell_type": "code",
   "execution_count": 3,
   "metadata": {},
   "outputs": [],
   "source": [
    "#\n",
    "# The actual data: gpu\n",
    "#\n",
    "\n",
    "data = {}\n",
    "data[1]  = (156.1,  0.4)\n",
    "data[2]  = (202.2,  0.6)\n",
    "data[3]  = (214.3,  0.8)\n",
    "data[4]  = (218.0,  0.9)\n",
    "data[5]  = (222.8,  1.2)\n",
    "data[6]  = (224.9,  0.9)\n",
    "data[7]  = (226.3,  0.7)\n",
    "data[8]  = (229.2,  0.1)\n",
    "data[9]  = (231.2,  0.4)\n",
    "data[10] = (232.7,  0.5)\n",
    "data[11] = (233.4,  0.9)\n",
    "data[12] = (234.2,  0.8)\n",
    "data[13] = (235.8,  0.6)\n",
    "data[14] = (235.5,  0.6)\n",
    "data[15] = (235.9,  1.1)\n",
    "data[16] = (236.1,  1.0)\n",
    "data[17] = (237.9,  0.3)\n",
    "data[18] = (238.7,  1.2)\n",
    "data[19] = (238.7,  0.3)\n",
    "data[20] = (239.3,  1.0)\n",
    "\n",
    "#data[6]  = (224.4 , 1.1)\n",
    "#data[7]  = (227.2,  0.7)\n",
    "#data[8]  = (230.2,  0.5)\n",
    "#data[9]  = (230.7,  0.9)\n",
    "#data[10] = (231.8,  0.7)\n",
    "#data[11] = (233.6,  0.6)\n",
    "#data[12] = (233.3,  0.6)\n",
    "\n",
    "\n",
    "\n",
    "\n",
    "#\n",
    "# The actual data: gpu with HLT configuration\n",
    "#\n",
    "\n",
    "\n",
    "data_gpu_hlt = {}\n",
    "data_gpu_hlt[6]  = (223.6, 0.5)\n",
    "data_gpu_hlt[7]  = (226.5, 0.4)\n",
    "data_gpu_hlt[8]  = (228.5, 0.4)\n",
    "data_gpu_hlt[9]  = (230.0, 0.5)\n",
    "data_gpu_hlt[10] = (232.5, 0.5)\n",
    "data_gpu_hlt[11] = (233.4, 0.4)\n",
    "data_gpu_hlt[12] = (234.0, 0.8)\n",
    "\n",
    "\n",
    "#\n",
    "# The actual data: cpu with HLT configuration\n",
    "#\n",
    "\n",
    "data_cpu = {}\n",
    "\n",
    "#data_cpu[1]  = (124.9,  1.4)\n",
    "#data_cpu[3]  = (352.0,  9.2)\n",
    "#data_cpu[5]  = (568.7, 10.0)\n",
    "\n",
    "data_cpu[1]  = (169.0, 0.5)\n",
    "data_cpu[2]  = (319.2, 4.4)\n",
    "data_cpu[3]  = (429.7, 4.7)\n",
    "data_cpu[4]  = (552.3, 1.1)\n",
    "data_cpu[5]  = (661.8, 14.2)\n",
    "\n",
    "data_cpu[6]  = (716.9,  16.8)\n",
    "data_cpu[7]  = (821.7,   7.9)\n",
    "data_cpu[8]  = (891.2,   5.0)\n",
    "data_cpu[9]  = (981.7,  10.0)\n",
    "data_cpu[10] = (1060.3,  8.1)\n",
    "data_cpu[11] = (1116.4, 21.6)\n",
    "data_cpu[12] = (1178.8,  8.7)\n",
    "\n",
    "# day after\n",
    "data_cpu[13] = (1178.2,  3.8)\n",
    "# data_cpu[15] = (1044.3,  10.0)  # err\n",
    "data_cpu[17] = (1200.3,  10.0)\n",
    "data_cpu[19] = (1189.7,  20.0)\n",
    "data_cpu[21] = (1188.5,  10.0)\n",
    "data_cpu[23] = (1218.9,  25.0)\n",
    "data_cpu[25] = (1239.4,  25.0)\n",
    "data_cpu[27] = (1200.9,  25.0)\n",
    "data_cpu[29] = (1192.5,  25.0)\n",
    "\n",
    "\n"
   ]
  },
  {
   "cell_type": "code",
   "execution_count": 4,
   "metadata": {},
   "outputs": [
    {
     "name": "stdout",
     "output_type": "stream",
     "text": [
      "{1: (156.1, 0.4), 2: (202.2, 0.6), 3: (214.3, 0.8), 4: (218.0, 0.9), 5: (222.8, 1.2), 6: (224.9, 0.9), 7: (226.3, 0.7), 8: (229.2, 0.1), 9: (231.2, 0.4), 10: (232.7, 0.5), 11: (233.4, 0.9), 12: (234.2, 0.8), 13: (235.8, 0.6), 14: (235.5, 0.6), 15: (235.9, 1.1), 16: (236.1, 1.0), 17: (237.9, 0.3), 18: (238.7, 1.2), 19: (238.7, 0.3), 20: (239.3, 1.0)}\n",
      "{1: (169.0, 0.5), 2: (319.2, 4.4), 3: (429.7, 4.7), 4: (552.3, 1.1), 5: (661.8, 14.2), 6: (716.9, 16.8), 7: (821.7, 7.9), 8: (891.2, 5.0), 9: (981.7, 10.0), 10: (1060.3, 8.1), 11: (1116.4, 21.6), 12: (1178.8, 8.7), 13: (1178.2, 3.8), 17: (1200.3, 10.0), 19: (1189.7, 20.0), 21: (1188.5, 10.0), 23: (1218.9, 25.0), 25: (1239.4, 25.0), 27: (1200.9, 25.0), 29: (1192.5, 25.0)}\n"
     ]
    }
   ],
   "source": [
    "print data\n",
    "\n",
    "print data_cpu"
   ]
  },
  {
   "cell_type": "code",
   "execution_count": 5,
   "metadata": {},
   "outputs": [],
   "source": [
    "iterator = 0\n",
    "for point in data.iteritems():\n",
    "    # print i[1][1]\n",
    "    gr_gpu.SetPoint      (iterator, point[0], point[1][0]) \n",
    "    gr_gpu.SetPointError (iterator, 0,        point[1][1]) \n",
    "    iterator+=1"
   ]
  },
  {
   "cell_type": "code",
   "execution_count": 6,
   "metadata": {
    "scrolled": false
   },
   "outputs": [],
   "source": [
    "cc = ROOT.TCanvas (\"cc\",\"\",800,600)\n",
    "gr_gpu.SetMarkerSize(2)\n",
    "gr_gpu.SetMarkerStyle(20)\n",
    "gr_gpu.SetMarkerColor(ROOT.kRed)\n",
    "gr_gpu.SetLineColor(ROOT.kRed)\n",
    "\n",
    "\n",
    "mgr = ROOT.TMultiGraph()\n",
    "\n",
    "mgr.Add(gr_gpu)\n"
   ]
  },
  {
   "cell_type": "code",
   "execution_count": 7,
   "metadata": {},
   "outputs": [],
   "source": [
    "iterator = 0\n",
    "for point in data_cpu.iteritems():\n",
    "    # print i[1][1]\n",
    "    gr_cpu.SetPoint      (iterator, point[0], point[1][0]) \n",
    "    gr_cpu.SetPointError (iterator, 0,        point[1][1])\n",
    "    iterator+=1\n",
    "\n",
    "    \n",
    "iterator = 0\n",
    "for point in data_gpu_hlt.iteritems():\n",
    "    gr_gpu_hlt.SetPoint      (iterator, point[0], point[1][0]) \n",
    "    gr_gpu_hlt.SetPointError (iterator, 0,        point[1][1])\n",
    "    iterator+=1\n",
    "    \n",
    "    "
   ]
  },
  {
   "cell_type": "code",
   "execution_count": 8,
   "metadata": {},
   "outputs": [],
   "source": [
    "gr_cpu.SetMarkerSize(2)\n",
    "gr_cpu.SetMarkerStyle(21)\n",
    "gr_cpu.SetMarkerColor(ROOT.kBlue)\n",
    "gr_cpu.SetLineColor(ROOT.kBlue)\n",
    "gr_cpu.SetLineStyle(3)\n",
    "\n",
    "\n",
    "gr_gpu_hlt.SetMarkerSize(2)\n",
    "gr_gpu_hlt.SetMarkerStyle(22)\n",
    "gr_gpu_hlt.SetMarkerColor(ROOT.kRed+4)\n",
    "gr_gpu_hlt.SetLineColor(ROOT.kRed+4)\n",
    "gr_gpu_hlt.SetLineStyle(4)\n",
    "\n",
    "\n",
    "mgr.Add(gr_gpu_hlt)\n",
    "mgr.Add(gr_cpu)\n",
    "\n",
    "\n",
    "leg = ROOT.TLegend(0.6, 0.3, 0.9, 0.5)\n",
    "leg.AddEntry(gr_cpu, \"cpu [but not alone]\")\n",
    "#\", Intel(R) Xeon(R) CPU E5-2650 v4 @ 2.20GHz (12 cores, 24 threads)]\")\n",
    "\n",
    "leg.AddEntry(gr_gpu, \"gpu GTX 1080\")\n",
    "leg.AddEntry(gr_gpu_hlt, \"gpu GTX 1080 HLT config\")\n",
    "\n",
    "\n",
    "mgr.Draw(\"APL\")\n",
    "mgr.GetXaxis().SetTitle(\"#threads / streams\")\n",
    "mgr.GetYaxis().SetTitle(\"events/sec\")\n",
    "\n",
    "leg.Draw(\"same\")\n"
   ]
  },
  {
   "cell_type": "code",
   "execution_count": 9,
   "metadata": {},
   "outputs": [
    {
     "data": {
      "image/png": "[encoded data removed]",
      "text/plain": [
       "<IPython.core.display.Image object>"
      ]
     },
     "metadata": {},
     "output_type": "display_data"
    }
   ],
   "source": [
    "cc.Draw()"
   ]
  },
  {
   "cell_type": "code",
   "execution_count": 10,
   "metadata": {},
   "outputs": [],
   "source": [
    "#\n",
    "# seconds per event\n",
    "#\n",
    "\n",
    "\n",
    "gr_sec_per_event_gpu = ROOT.TGraphErrors ()\n",
    "gr_sec_per_event_gpu_hlt = ROOT.TGraphErrors ()\n",
    "gr_sec_per_event_cpu = ROOT.TGraphErrors ()\n",
    "\n",
    "\n",
    "\n",
    "mgr_sec_per_event = ROOT.TMultiGraph()\n",
    "\n",
    "\n",
    "\n",
    "iterator = 0\n",
    "for point in data.iteritems():\n",
    "    # print i[1][1]\n",
    "    gr_sec_per_event_gpu.SetPoint      (iterator, point[0], 1000.* 1./point[1][0]) \n",
    "    gr_sec_per_event_gpu.SetPointError (iterator, 0,        1000.* point[1][1]/point[1][0]/point[1][0]) \n",
    "    iterator+=1\n",
    "    \n",
    "mgr_sec_per_event.Add(gr_sec_per_event_gpu)\n",
    "    \n",
    "\n",
    "\n",
    "iterator = 0\n",
    "for point in data_cpu.iteritems():\n",
    "    # print i[1][1]\n",
    "    gr_sec_per_event_cpu.SetPoint      (iterator, point[0], 1000.* 1./point[1][0]) \n",
    "    gr_sec_per_event_cpu.SetPointError (iterator, 0,        1000.* point[1][1]/point[1][0]/point[1][0])\n",
    "    iterator+=1\n",
    "\n",
    "mgr_sec_per_event.Add(gr_sec_per_event_cpu)\n",
    "    \n",
    "iterator = 0\n",
    "for point in data_gpu_hlt.iteritems():\n",
    "    gr_sec_per_event_gpu_hlt.SetPoint      (iterator, point[0], 1000.* 1./point[1][0]) \n",
    "    gr_sec_per_event_gpu_hlt.SetPointError (iterator, 0,        1000.* point[1][1]/point[1][0]/point[1][0])\n",
    "    iterator+=1\n",
    "\n",
    "mgr_sec_per_event.Add(gr_sec_per_event_gpu_hlt)\n",
    "\n",
    "gr_sec_per_event_cpu.SetMarkerSize(2)\n",
    "gr_sec_per_event_cpu.SetMarkerStyle(21)\n",
    "gr_sec_per_event_cpu.SetMarkerColor(ROOT.kBlue)\n",
    "gr_sec_per_event_cpu.SetLineColor(ROOT.kBlue)\n",
    "gr_sec_per_event_cpu.SetLineStyle(3)\n",
    "\n",
    "\n",
    "gr_sec_per_event_gpu_hlt.SetMarkerSize(2)\n",
    "gr_sec_per_event_gpu_hlt.SetMarkerStyle(22)\n",
    "gr_sec_per_event_gpu_hlt.SetMarkerColor(ROOT.kRed+4)\n",
    "gr_sec_per_event_gpu_hlt.SetLineColor(ROOT.kRed+4)\n",
    "gr_sec_per_event_gpu_hlt.SetLineStyle(4)\n",
    "\n",
    "gr_sec_per_event_gpu.SetMarkerSize(2)\n",
    "gr_sec_per_event_gpu.SetMarkerStyle(20)\n",
    "gr_sec_per_event_gpu.SetMarkerColor(ROOT.kRed)\n",
    "gr_sec_per_event_gpu.SetLineColor(ROOT.kRed)\n",
    "\n",
    "cc_sec_per_event = ROOT.TCanvas (\"cc_sec_per_event\",\"\",800,600)\n",
    "\n",
    "mgr_sec_per_event.Draw(\"APL\")\n",
    "mgr_sec_per_event.GetXaxis().SetTitle(\"#threads / streams\")\n",
    "mgr_sec_per_event.GetYaxis().SetTitle(\"msec/event\")\n",
    "\n",
    "leg.Draw(\"same\")    \n",
    "\n",
    "\n"
   ]
  },
  {
   "cell_type": "code",
   "execution_count": 11,
   "metadata": {},
   "outputs": [
    {
     "data": {
      "image/png": "[encoded data removed]",
      "text/plain": [
       "<IPython.core.display.Image object>"
      ]
     },
     "metadata": {},
     "output_type": "display_data"
    }
   ],
   "source": [
    "cc_sec_per_event.Draw()"
   ]
  },
  {
   "cell_type": "code",
   "execution_count": null,
   "metadata": {},
   "outputs": [],
   "source": []
  }
 ],
 "metadata": {
  "kernelspec": {
   "display_name": "Python 2",
   "language": "python",
   "name": "python2"
  },
  "language_info": {
   "codemirror_mode": {
    "name": "ipython",
    "version": 2
   },
   "file_extension": ".py",
   "mimetype": "text/x-python",
   "name": "python",
   "nbconvert_exporter": "python",
   "pygments_lexer": "ipython2",
   "version": "2.7.15"
  }
 },
 "nbformat": 4,
 "nbformat_minor": 2
}
